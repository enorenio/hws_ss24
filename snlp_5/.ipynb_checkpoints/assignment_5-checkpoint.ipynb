{
 "cells": [
  {
   "cell_type": "markdown",
   "metadata": {
    "id": "T-21tlRxnfLW"
   },
   "source": [
    "# SNLP Assignment 5\n",
    "\n",
    "Name 1: Daniya Niazi<br/>\n",
    "Student id 1: 7062343<br/>\n",
    "Email 1:  dani00003@stud.uni-saarland.de <br/>\n",
    "\n",
    "\n",
    "Name 2: <br/>\n",
    "Student id 2: <br/>\n",
    "Email 2: <br/> \n",
    "\n",
    "Name 3: <br/>\n",
    "Student id 3: <br/>\n",
    "Email 3: <br/> \n",
    "\n",
    "**Instructions:** Read each question carefully. <br/>\n",
    "Make sure you appropriately comment your code wherever required. Your final submission should contain the completed Notebook. There is no need to submit the data files. <br/>\n",
    "Upload the zipped folder on CMS. Please follow the naming convention of **Name1_studentID1_Name2_studentID2_Name3_studentID3.zip**. Make sure to click on \"Turn-in\" (or the equivalent on CMS) after you upload your submission, otherwise the assignment will not be considered as submitted. Only one member of the group should make the submisssion.\n",
    "\n",
    "---"
   ]
  },
  {
   "cell_type": "markdown",
   "metadata": {},
   "source": [
    "## Notes!!\n",
    "\n",
    "* Unless specified specifically, you only need to lowercase the text (training and test). You don't need to apply further preprocessing such as removing the punctuations.\n",
    "* For theoretical answer, you always need to add some explanations. Generally, 1-3 sentences are enough.\n",
    "* If you get math error or divide by zero error, try substituting 0 with an extremely small value like $1e-6$.\n",
    "* For Q3, you can use the pre-trained BPE tokenizer from Q1 (i.e. `ex1.tokenize_bpe()`)\n",
    "* In case you face some weird issue even if your implementation seems correct, try restarting the kernel and rerunning your code.\n",
    "* If you face any problems with libraries (like Huggingface Transformers), try running the notebook on [Google Colab](https://colab.research.google.com/).\n",
    "* **Make sure that you include the python scripts (exercise_1.py and exercise_2_and_3.py without \\_pycache\\_) along with your solution notebook in the submission zip file.**"
   ]
  },
  {
   "cell_type": "markdown",
   "metadata": {
    "id": "0o_hqMzc7qAH"
   },
   "source": [
    "## Exercise 1 - Tokenization (3 points)\n",
    "\n",
    "In the lecture, we learnt about Byte-Pair Encodings (BPE) and Morfessor tokenizer. In this exercise, we'll use these tokenizers and see how they work. You are given a text file `moby_dick.txt` which you'll use to train the tokenizer, and then you'll tokenize the text in `burgess.txt` and compute the entropy of the tokenized text distribution.\n",
    "\n",
    "---"
   ]
  },
  {
   "cell_type": "markdown",
   "metadata": {},
   "source": [
    "### Solution 1"
   ]
  },
  {
   "cell_type": "code",
   "execution_count": 2,
   "metadata": {},
   "outputs": [
    {
     "name": "stdout",
     "output_type": "stream",
     "text": [
      "Requirement already satisfied: tokenizers in c:\\python310\\lib\\site-packages (0.19.1)\n",
      "Requirement already satisfied: morfessor in c:\\python310\\lib\\site-packages (2.0.6)\n",
      "Requirement already satisfied: tqdm in c:\\python310\\lib\\site-packages (4.66.4)\n",
      "Requirement already satisfied: huggingface-hub<1.0,>=0.16.4 in c:\\python310\\lib\\site-packages (from tokenizers) (0.23.0)\n",
      "Requirement already satisfied: colorama in c:\\python310\\lib\\site-packages (from tqdm) (0.4.6)\n",
      "Requirement already satisfied: filelock in c:\\python310\\lib\\site-packages (from huggingface-hub<1.0,>=0.16.4->tokenizers) (3.8.2)\n",
      "Requirement already satisfied: fsspec>=2023.5.0 in c:\\python310\\lib\\site-packages (from huggingface-hub<1.0,>=0.16.4->tokenizers) (2024.3.1)\n",
      "Requirement already satisfied: packaging>=20.9 in c:\\users\\hp\\appdata\\roaming\\python\\python310\\site-packages (from huggingface-hub<1.0,>=0.16.4->tokenizers) (24.0)\n",
      "Requirement already satisfied: pyyaml>=5.1 in c:\\python310\\lib\\site-packages (from huggingface-hub<1.0,>=0.16.4->tokenizers) (6.0.1)\n",
      "Requirement already satisfied: requests in c:\\python310\\lib\\site-packages (from huggingface-hub<1.0,>=0.16.4->tokenizers) (2.31.0)\n",
      "Requirement already satisfied: typing-extensions>=3.7.4.3 in c:\\users\\hp\\appdata\\roaming\\python\\python310\\site-packages (from huggingface-hub<1.0,>=0.16.4->tokenizers) (4.11.0)\n",
      "Requirement already satisfied: charset-normalizer<4,>=2 in c:\\python310\\lib\\site-packages (from requests->huggingface-hub<1.0,>=0.16.4->tokenizers) (3.3.2)\n",
      "Requirement already satisfied: idna<4,>=2.5 in c:\\python310\\lib\\site-packages (from requests->huggingface-hub<1.0,>=0.16.4->tokenizers) (3.7)\n",
      "Requirement already satisfied: urllib3<3,>=1.21.1 in c:\\python310\\lib\\site-packages (from requests->huggingface-hub<1.0,>=0.16.4->tokenizers) (2.2.1)\n",
      "Requirement already satisfied: certifi>=2017.4.17 in c:\\python310\\lib\\site-packages (from requests->huggingface-hub<1.0,>=0.16.4->tokenizers) (2024.2.2)\n"
     ]
    },
    {
     "name": "stderr",
     "output_type": "stream",
     "text": [
      "WARNING: Ignoring invalid distribution -ip (c:\\python310\\lib\\site-packages)\n",
      "WARNING: Ignoring invalid distribution -ip (c:\\python310\\lib\\site-packages)\n"
     ]
    }
   ],
   "source": [
    "# For BPE use Huggingface Tokenizer library\n",
    "# and for Morfesor use Morfessor library\n",
    "# tqdm is for progress bar\n",
    "\n",
    "!pip install tokenizers morfessor tqdm"
   ]
  },
  {
   "cell_type": "code",
   "execution_count": 3,
   "metadata": {},
   "outputs": [],
   "source": [
    "# Use this to train the tokenizer as well as the Language models\n",
    "training_file = \"data/moby_dick.txt\"\n",
    "\n",
    "# Tokenize the test text and compute the entropy\n",
    "# and later perplexity using Language models\n",
    "test_file = \"data/burgess.txt\""
   ]
  },
  {
   "cell_type": "code",
   "execution_count": 38,
   "metadata": {},
   "outputs": [],
   "source": [
    "# DO NOT CHANGE THE CODE BELOW\n",
    "# Your solution should be implemented in the `exercise_1.py` file\n",
    "# You might have to rerun this cell if you make changes to the `exercise_1.py` file\n",
    "import  exercise_1\n",
    "from importlib import reload\n",
    "\n",
    "reload(exercise_1)\n",
    "\n",
    "ex1 = exercise_1.TokenizerEntropy()"
   ]
  },
  {
   "cell_type": "markdown",
   "metadata": {},
   "source": [
    "#### BPE tokenizer (1.5 point)\n",
    "\n",
    "Let's start with BPE tokenizer. Byte Pair Encoding (BPE) is a subword tokenization method that iteratively merges the most frequent pair of bytes or characters in a text corpus to form new, longer subword units. This process continues until a specified vocabulary size is reached, balancing the trade-off between token granularity and vocabulary size. \n",
    "\n",
    "a. Train the BPE tokenizer on the `moby_dick.txt` file (in the cell below). You can use the built-in trainer from Huggingface tokenizers library (see: [docs](https://huggingface.co/docs/tokenizers/pipeline) and the imports below) (0.25 point)  \n",
    "b. Complete the `tokenize_bpe()` function in `exercise_1.py`. (0.25 point)  \n",
    "c. Complete the `get_probs()` function in `exercise_1.py`. (0.25 point)  \n",
    "d. Complete the `compute_entropy` function in `exercise_1.py`. Then, compute the entropy of the tokenized distribution of `burgess.txt`. (0.25 point)  \n",
    "e. Plot the zipf's plot for the tokenized text (rank vs probability/frequency). (0.25 point)  \n",
    "f. What does the entropy of the tokenized text distribution mean? Explain in 2-3 sentences. (0.25 point)  \n",
    "\n",
    "Note: Using the defaults for the parameters of BPE (like vocabulary size) is okay."
   ]
  },
  {
   "cell_type": "code",
   "execution_count": 39,
   "metadata": {},
   "outputs": [
    {
     "name": "stdout",
     "output_type": "stream",
     "text": [
      "Moby Tokenizer from Hugging Face :  ['Hell', 'o', ',', 'y', \"'\", 'all', '!', 'How', 'are', 'you', 'mo', 'by', 'token', 'izer', 'you', 'have', 'been', 'token', 'ize', '?']\n",
      "BPE entropy: 8.21\n"
     ]
    }
   ],
   "source": [
    "# For BPE\n",
    "from tokenizers import Tokenizer\n",
    "from tokenizers.models import BPE\n",
    "from tokenizers.trainers import BpeTrainer\n",
    "from tokenizers.pre_tokenizers import Whitespace\n",
    "from tokenizers.normalizers import Lowercase\n",
    "\n",
    "# Train BPE model\n",
    "# Using the default parameters is fine\n",
    "# ====================================\n",
    "# Your code here\n",
    "# a, Training the BPE on moby_dick\n",
    "tokenizer = Tokenizer(BPE(unk_token=\"[UNK]\"))\n",
    "trainer = BpeTrainer(special_tokens=[\"[UNK]\", \"[CLS]\", \"[SEP]\", \"[PAD]\", \"[MASK]\"])\n",
    "tokenizer.pre_tokenizer = Whitespace()\n",
    "tokenizer.train([\"data/moby_dick.txt\"], trainer)\n",
    "tokenizer.save(\"data/tokenizer_moby_dick.json\")\n",
    "moby_tokenizer = Tokenizer.from_file(\"data/tokenizer_moby_dick.json\")\n",
    "output = moby_tokenizer.encode(\"Hello, y'all! How are you moby tokenizer you have been tokenize?\")\n",
    "print(\"Moby Tokenizer from Hugging Face : \",output.tokens)\n",
    "\n",
    "# ====================================\n",
    "\n",
    "# Compute the entropy of the test text\n",
    "test_text = open('data/burgess.txt').read().strip().lower()\n",
    "bpe_entropy = ex1.compute_entropy(test_text, tokenizer)\n",
    "\n",
    "print(f\"BPE entropy: {bpe_entropy:.2f}\")"
   ]
  },
  {
   "cell_type": "code",
   "execution_count": 40,
   "metadata": {},
   "outputs": [
    {
     "data": {
      "image/png": "[encoded data removed]",
      "text/plain": [
       "<Figure size 600x600 with 1 Axes>"
      ]
     },
     "metadata": {},
     "output_type": "display_data"
    }
   ],
   "source": [
    "# Plot the zipf's line\n",
    "import matplotlib.pyplot as plt\n",
    "from collections import Counter\n",
    "\n",
    "def analysis_loglog_zipfs_line(tokens):\n",
    "    token_counts = Counter(tokens)\n",
    "\n",
    "    # Sort tokens by frequency in descending order\n",
    "    sorted_tokens = sorted(token_counts.items(), key=lambda item: item[1], reverse=True)\n",
    "\n",
    "    # Extract frequencies and ranks\n",
    "    frequencies = [count for _, count in sorted_tokens]\n",
    "    ranks = list(range(1, len(frequencies) + 1))\n",
    "\n",
    "    # Plot Zipf's plot\n",
    "    plt.figure(figsize=(6, 6))\n",
    "    plt.plot(ranks, frequencies)\n",
    "    plt.xscale('log')\n",
    "    plt.yscale('log')\n",
    "    plt.title(\"Zipf's plot for tokenized text\")\n",
    "    plt.xlabel('Rank')\n",
    "    plt.ylabel('Frequency')\n",
    "    plt.grid(True)\n",
    "    plt.show()\n",
    "    \n",
    "# ====================================\n",
    "# Your code here\n",
    "tokens = ex1.tokenize_bpe(tokenizer, test_text)\n",
    "analysis_loglog_zipfs_line(tokens)\n",
    "\n",
    "# ===================================="
   ]
  },
  {
   "cell_type": "markdown",
   "metadata": {},
   "source": [
    "#### Morfessor tokenizer (1.5 point)\n",
    "\n",
    "Now, we'll repeat the same for the Morfessor tokenizer. Morfessor is used for morphological segmentation or tokenization. You can read about Morfessor from this [report](https://aaltodoc.aalto.fi/items/8c912f1c-2b56-4c12-a60d-1c340aa24b01) and the [library documentation](https://morfessor.readthedocs.io/en/latest/general.html).\n",
    "\n",
    "a. Train the Morfessor tokenizer on the `moby_dick.txt` file (in the cell below). (0.25 point)\n",
    "\n",
    "   - The Morfessor tokenizer expects the training data to be a text file containing a list of words and it's frequency in the corpus (see below). Take the `moby_dick.txt` file, convert it into a list of words (you can simply split by spaces) and write it into `morfessor_training.txt` file.\n",
    "\n",
    "     ```\n",
    "        22 the\n",
    "        1 hello\n",
    "        4 is\n",
    "        1 test-based\n",
    "        ...\n",
    "   - Run the cell below to train the morfessor model on this training data.\n",
    "   \n",
    "b. Complete the `tokenize_morfessor()` function in `exercise_1.py`. (0.5 point)  \n",
    "c. Plot the zipf's plot for the tokenized text (rank vs probability/frequency). (0.25 point)  \n",
    "d. Compute the entropy for the test set using Morfessor tokenizer. How does the entropy compare to BPE? (0.25)  \n",
    "e. Based solely on the entropy, which tokenizer would you prefer? Explain in 2-3 sentences. (0.25)  "
   ]
  },
  {
   "cell_type": "code",
   "execution_count": null,
   "metadata": {},
   "outputs": [],
   "source": [
    "# For Morfessor\n",
    "import morfessor"
   ]
  },
  {
   "cell_type": "code",
   "execution_count": 41,
   "metadata": {},
   "outputs": [],
   "source": [
    "# Read the training file\n",
    "# Convert it into a list of words (separate by whitespace)\n",
    "# And, save it to a file called `morfessor_training.txt`\n",
    "from collections import Counter\n",
    "\n",
    "def generate_morfessor_file(path,out_path):\n",
    "    # Read the content of the moby_dick.txt file\n",
    "    text = open(path).read().strip().lower()\n",
    "\n",
    "    # Tokenize the text by splitting it into words\n",
    "    words = text.split()\n",
    "\n",
    "    # Count the frequency of each word\n",
    "    word_counts = Counter(words)\n",
    "\n",
    "    # Write the word frequencies to a file in the format \"frequency word\"\n",
    "    with open(out_path, \"w\", encoding=\"utf-8\") as file:\n",
    "        for word, frequency in word_counts.items():\n",
    "            file.write(f\"{frequency} {word}\\n\")\n",
    "\n",
    "# ====================================\n",
    "# Your code here\n",
    "generate_morfessor_file(\"data/moby_dick.txt \",\"morfessor_training.txt\")\n",
    "# ===================================="
   ]
  },
  {
   "cell_type": "code",
   "execution_count": 29,
   "metadata": {},
   "outputs": [
    {
     "name": "stderr",
     "output_type": "stream",
     "text": [
      "'morfessor-train' is not recognized as an internal or external command,\n",
      "operable program or batch file.\n"
     ]
    }
   ],
   "source": [
    "# Train Morfessor model using the morfessor_traininig.txt file\n",
    "# and save the trained model as morfessor_model.bin\n",
    "# We're using the morfessor-train command in the CLI with default arguments\n",
    "# due to it's ease of use, you can also use the Morfessor API if you prefer\n",
    "\n",
    "!morfessor-train morfessor_training.txt -s morfessor_model.bin"
   ]
  },
  {
   "cell_type": "code",
   "execution_count": 42,
   "metadata": {},
   "outputs": [
    {
     "name": "stderr",
     "output_type": "stream",
     "text": [
      "...........................................................\n",
      "...........................................................\n",
      "...........................................................\n",
      "...........................................................\n",
      "...........................................................\n"
     ]
    }
   ],
   "source": [
    "# Using API - Training the morfssor\n",
    "import morfessor\n",
    "import math\n",
    "\n",
    "# Load the training data\n",
    "io = morfessor.MorfessorIO()\n",
    "train_data = list(io.read_corpus_file('morfessor_training.txt'))\n",
    "\n",
    "# Create and train the model\n",
    "model = morfessor.BaselineModel()\n",
    "model.load_data(train_data)\n",
    "model.train_batch()\n",
    "\n",
    "# Save the trained model\n",
    "model_output_file = \"morfessor_model.bin\"\n",
    "io.write_binary_model_file(model_output_file, model)"
   ]
  },
  {
   "cell_type": "code",
   "execution_count": 43,
   "metadata": {},
   "outputs": [
    {
     "name": "stdout",
     "output_type": "stream",
     "text": [
      "Morfessor entropy: 7.85\n"
     ]
    }
   ],
   "source": [
    "# Load the trained model\n",
    "morfessor_model = io.read_binary_model_file(model_output_file)\n",
    "\n",
    "# Compute the entropy of the test text\n",
    "test_text = open(test_file).read().strip().lower()\n",
    "morfessor_entropy = ex1.compute_entropy(test_text, tokenizer=morfessor_model)\n",
    "\n",
    "print(f\"Morfessor entropy: {morfessor_entropy:.2f}\")"
   ]
  },
  {
   "cell_type": "code",
   "execution_count": 44,
   "metadata": {},
   "outputs": [
    {
     "data": {
      "image/png": "[encoded data removed]",
      "text/plain": [
       "<Figure size 600x600 with 1 Axes>"
      ]
     },
     "metadata": {},
     "output_type": "display_data"
    }
   ],
   "source": [
    "# Plot the zipf's line\n",
    "import matplotlib.pyplot as plt\n",
    "\n",
    "# ====================================\n",
    "# Your code here\n",
    "tokens = ex1.tokenize_morfessor(morfessor_model, test_text)\n",
    "analysis_loglog_zipfs_line(tokens)\n",
    "# ===================================="
   ]
  },
  {
   "cell_type": "markdown",
   "metadata": {},
   "source": [
    "## Exercise 2 - Maximum Likelihood Estimate (3 points)\n",
    "\n",
    "### Estimating the Maximum likelihood from a given text\n",
    "\n",
    "a. Consider the formula on Page 31 in Chapter 2. \n",
    "\n",
    "$$P(w_2 | w_1) = \\frac{P(w_1,w_2)}{P(w_1)}$$\n",
    "\n",
    "To actually estimate these n-gram probabilities over a text corpus, we use **Maximum Likelihood Estimation (MLE)**. The estimate for the parameters of the MLE is obtained by getting counts from the corpus and then normalising them so they lie between 0 and 1.\n",
    "\n",
    "Using this, state the empirical formula for finding the conditional probability of unigrams $P(w)$, bigrams $P(w_2|w_1)$, and trigrams $P(w_3|w_1,w_2)$ for a corpus of N words. We do not expect any mathematical proof here, but just the formula for finding the conditional probabilities from the words in the corpus using the shown equation as the starting point. (0.5 point)\n",
    "\n",
    "b. Check the following small corpus of text. (0.25 point)\n",
    "\n",
    "> &lt;s> I am learning the SNLP course. &lt;/s>  \n",
    "&lt;s> The SNLP course is fun. &lt;/s>  \n",
    "&lt;s> I am studying a lot of stuff. &lt;/s>  \n",
    "&lt;s> I'm enjoying the fun topics. &lt;/s>\n",
    "\n",
    "Now, using MLE, compute the probabilities for the following (assume we lowercase the corpus):  \n",
    "i. `P(snlp|the)`  \n",
    "ii. `P(learning|i am)`\n",
    "\n",
    "\n",
    "### Does the choice of tokenizer have any effect on the Language model?\n",
    "c. You are going to implement a general n-gram Language model in `exercise_2_and_3.py`. This takes `n_gram` as a parameter where `n_gram=2` would result in a bigram model.\n",
    "\n",
    "   - Implement the `get_counts()` function in `exercise_2_and_3.py`. This function takes a list of tokens and `n` and calculates the frequency of each n-gram occurrence in the training set. (0.5 points)\n",
    "   - Implement the `train()` function in `exercise_2_and_3.py`. This function takes a list of tokens, gets the counts of n-grams using the `get_counts()` function and saves the respective counts to `n_gram_counts`, `n_minus_1_gram_counts` and `unigram_counts` attribute of `LanguageModel`. Then, it computes the MLE estimates for each n-gram and saves it in the `prob` attribute of `LanguageModel` class. (0.5 points)\n",
    "   - Implement the `perplexity()` function in `exercise_2_and_3.py`. This function takes a list of tokens (from the test set) and computes the perplexity on that text corpus. (0.5 points)\n",
    "   - Train the model on `moby_dick.txt` using the BPE tokenizer (You can use the pre-trained BPE and the `ex1.tokenize_bpe()` function from Q1). Then, compute the perplexity on the `burgess.txt` file. (0.25 points)\n",
    "   - Repeat above step but using Morfessor tokenizer. You can use the pre-trained Morfessor model and `ex1.tokenize_morfessor()` function form Q1. (0.25 points)\n",
    "\n",
    "   NOTE: We cannot directly compare the perplexity of a language model that use different tokenizers since they can generate different number of tokens ([Read this](https://sjmielke.com/comparing-perplexities.htm)). A possible fix for this is normalizing the sum of log-probabilities with the number of words (in the text corpus you are evaluating) similar to computing the perplexity at the word level:\n",
    "   $$PP = exp(-\\frac{1}{num\\_words} \\sum_{i}^{n\\_ngrams} log(p(w_i|h_i)))$$\n",
    "\n",
    "d. How is the perplexity affected by the choice of tokenizer? What does it mean for each tokenizer? (0.25 points)\n",
    "\n",
    "---"
   ]
  },
  {
   "cell_type": "markdown",
   "metadata": {},
   "source": [
    "### Solution 2"
   ]
  },
  {
   "cell_type": "markdown",
   "metadata": {},
   "source": [
    "##### Solution 2.a\n",
    "\n",
    "The joint probability of a sequence of words $$  P(w_1, w_2, w_3 \\ldots, w_n)  $$ can be expressed as the product of the conditional probabilities of each word given the previous word:\n",
    "\n",
    "$$ P(w_1, w_2, \\ldots, w_n) = \\prod_{i=1}^{n} P(w_i \\mid w_1,w_2, w_3,... w_{i-1}) $$\n",
    "\n",
    "##### Unigram \n",
    "The probability of a unigram 𝑃(𝑤) is given by the count of the word (frequency of word ) 𝑤 divided by the total number of words \n",
    "𝑁 in the corpus.\n",
    "\n",
    "$$ P(w) = \\frac{C\\left(w\\right)}{N}$$\n",
    "\n",
    "\n",
    "##### Bigram \n",
    "\n",
    "The joint probability of a sequence of words $$ P(w_1, w_2) $$ is:\n",
    "\n",
    "$$ P(w_1, w_2) = \\prod_{i=2}^{n} P(w_2 \\mid w_1) $$\n",
    "\n",
    "and the conditional probabilities of a words in the given coprus given the previous word is:\n",
    "\n",
    "$$ P(w_i \\mid w_{i-1}) = \\frac{\\text{count}(w_{i-1}, w_i)}{\\text{count}(w_{i-1})} $$\n",
    "\n",
    "\n",
    "$$ P(w_2 \\mid w_1) = \\frac{\\text{count}(w_1, w_2)}{\\text{count}(w_1)} $$\n",
    "\n",
    "#### Trigram\n",
    "The joint probability of a sequence of words $ P(w_1, w_2, w_3) $ is:\n",
    "\n",
    "$$ P(w_1, w_2, w_3) = \\prod_{i=3}^{n} P(w_3 \\mid w_{1}, w_{2}) $$\n",
    "\n",
    "The conditional probability of a word given the previous two words is:\n",
    "\n",
    "$$ P(w_i \\mid w_{i-2}, w_{i-1}) = \\frac{\\text{count}(w_{i-2}, w_{i-1}, w_i)}{\\text{count}(w_{i-2}, w_{i-1})} $$\n",
    "\n",
    "\n",
    "$$ P(w_3 \\mid w_1,w_2) = \\frac{\\text{count}(w_1, w_2,w_3)}{\\text{count}(w_{1}, w_{2})} $$\n",
    "\n",
    "#### N-gram\n",
    "The joint probability of a sequence of words $$P(w_1, w_2, \\ldots, w_n) $$ is:\n",
    "\n",
    "$$ P(w_1, w_2, \\ldots, w_n) = \\prod_{i=n}^{N} P(w_i \\mid w_{i-(n-1)}, \\ldots, w_{i-2}, w_{i-1}) $$\n",
    "\n",
    "The conditional probability of a word given the previous \\( n-1 \\) words is:\n",
    "\n",
    "$$ P(w_i \\mid w_{i-(n-1)}, \\ldots, w_{i-2}, w_{i-1}) = \\frac{\\text{count}(w_{i-(n-1)}, \\ldots, w_{i-2}, w_{i-1}, w_i)}{\\text{count}(w_{i-(n-1)}, \\ldots, w_{i-2}, w_{i-1})} $$\n",
    "\n",
    "\n"
   ]
  },
  {
   "cell_type": "markdown",
   "metadata": {},
   "source": [
    "##### Solution 2.b\n",
    "\n",
    "$$ count(the,snlp) = 2  $$\n",
    "$$ count (the) = 3 $$\n",
    "\n",
    "Now \n",
    "\n",
    "$$ P(snlp|the) =  \\frac{\\text count(the,snlp)} {count (the)} = \\frac{2}{3} $$\n",
    "\n",
    "Similary\n",
    "\n",
    "\n",
    "$$ P(learning|i am) =  \\frac{\\text count(i,am,learning)} {count (i,am)} = \\frac{1}{2} $$"
   ]
  },
  {
   "cell_type": "code",
   "execution_count": 48,
   "metadata": {},
   "outputs": [
    {
     "data": {
      "text/plain": [
       "<module 'exercise_2_and_3' from 'G:\\\\Studies\\\\mscs\\\\snlps24\\\\WEEK5\\\\Assignment_5\\\\exercise_2_and_3.py'>"
      ]
     },
     "execution_count": 48,
     "metadata": {},
     "output_type": "execute_result"
    }
   ],
   "source": [
    "# Solution 2.c\n",
    "# DO NOT CHANGE THE CODE BELOW\n",
    "# Your solution should be implemented in the `exercise_2_and_3.py` file\n",
    "# You might have to rerun this cell if you make changes to the `exercise_2_and_3.py` file\n",
    "\n",
    "import exercise_2_and_3\n",
    "from importlib import reload\n",
    "\n",
    "reload(exercise_2_and_3)"
   ]
  },
  {
   "cell_type": "markdown",
   "metadata": {},
   "source": [
    "#### Using BPE"
   ]
  },
  {
   "cell_type": "code",
   "execution_count": 49,
   "metadata": {},
   "outputs": [],
   "source": [
    "# Define a bigram model\n",
    "lm = exercise_2_and_3.LanguageModel(n_gram=2)\n",
    "\n",
    "# Training the language model\n",
    "# Remember you can use the pre-trained BPE tokenizer from Q1\n",
    "\n",
    "# ====================================\n",
    "# Your code here\n",
    "test_text = open('data/burgess.txt'\"\").read().strip().lower()\n",
    "moby_bpe_tokenizer = Tokenizer.from_file(\"data/tokenizer_moby_dick.json\")\n",
    "bpe_tokens = ex1.tokenize_bpe(moby_bpe_tokenizer, test_text)\n",
    "lm.train(bpe_tokens)\n",
    "# ===================================="
   ]
  },
  {
   "cell_type": "code",
   "execution_count": 51,
   "metadata": {},
   "outputs": [
    {
     "data": {
      "text/plain": [
       "4.078656597846708"
      ]
     },
     "execution_count": 51,
     "metadata": {},
     "output_type": "execute_result"
    }
   ],
   "source": [
    "# Computing Perplexity on test set\n",
    "\n",
    "# ====================================\n",
    "# Your code here\n",
    "n_words = len(test_text.split())\n",
    "lm.perplexity(bpe_tokens,n_words)\n",
    "# ===================================="
   ]
  },
  {
   "cell_type": "markdown",
   "metadata": {},
   "source": [
    "#### Using Morfessor"
   ]
  },
  {
   "cell_type": "code",
   "execution_count": null,
   "metadata": {},
   "outputs": [],
   "source": [
    "# Define a bigram model\n",
    "lm = ...\n",
    "\n",
    "# Training the language model\n",
    "# Remember you can use the pre-trained Morfessor tokenizer from Q1\n",
    "# ====================================\n",
    "# Your code here\n",
    "\n",
    "# ===================================="
   ]
  },
  {
   "cell_type": "code",
   "execution_count": null,
   "metadata": {},
   "outputs": [],
   "source": [
    "# Computing Perplexity on test set\n",
    "\n",
    "# ====================================\n",
    "# Your code here\n",
    "\n",
    "# ===================================="
   ]
  },
  {
   "cell_type": "markdown",
   "metadata": {},
   "source": [
    "##### Solution 2.d"
   ]
  },
  {
   "cell_type": "markdown",
   "metadata": {},
   "source": [
    "## Exercise 3 - Backing off Language Models (4 points)\n",
    "\n",
    "a. Complete the `generate()` function in `exercise_2_and_3.py` that takes a history (tokenized list) and then predicts the most likely next token based on the calculated probability distribution. (0.5 point)  \n",
    "b. Complete the `get_smoothed_probs()` function using the following formulas in `exercise_2_and_3.py`. (1 point) \n",
    "    $$P_{abs}(w_i|w_{i-1}) = \\frac{max\\{N(w_{i-1}, w_i) - d, 0\\}}{\\sum_{w^{'}} N(w_{i-1}, w^{'})} + \\lambda(w_{i-1}) P_{abs}(w_i)$$\n",
    "    $$P_{abs}(w_i) = \\frac{max\\{N(w_i)-d, 0\\}}{\\sum_{w^{'}} N(w^{'})} + \\lambda(.) P_{unif}(w_i)$$\n",
    "    $$\\lambda(w_{i-1}) = \\frac{d}{\\sum_{w^{'}} N(w_{i-1}, w^{'})} N_{1+}(w_{i-1}, \\cdot)$$\n",
    "    $$\\lambda(.) = \\frac{d}{\\sum_{w^{'}} N(w^{'})}N_{1+}$$   \n",
    "\n",
    "Where,  \n",
    "    $P_{unif}(w_i)$ is the uniform distribution over the number of unigrams.  \n",
    "    $N_{1+}(w_{i-1}, \\cdot)$ is the number of n-grams where $w_{i-1}$ occurs as history at least once.  \n",
    "    $N_{1+}$ is the number of unigrams that occur at least once i.e. simply the number of unigrams in the `unigram_counts`.  \n",
    "    \n",
    "c. Complete the `generate_absolute_smoothing()` function in `exercise_2_and_3.py`. (0.5 point)  \n",
    "\n",
    "d. Initialize a bigram language model (`n_gram=2`). Train it on `moby_dick.txt` (use BPE Tokenizer). Generate a continuation for \"_The computer_\" (i.e. $w_{i-1}=$ _The computer_) for 5 tokens using the `generate()` function. What did you get? Now, generate continuation for it using the `generate_absolute_smoothing()` function. What did you get now? (0.5 points)  \n",
    "\n",
    "e. We want to find the optimal discounting parameter $d$. For this, let's use cross-validation. Take the `moby_dick.txt` file and split it into a training (95%) and validation set (5%). Now, for $d$ in [0.1, 0.3, 0.5, 0.7, 0.9, 1.0], initialize a new bigram model, train it on the training set (use BPE tokenizer) and compute the perplexity on the validation set. Select the discount parameter that has the optimal perplexity. Also, plot the discounting parameter vs perplexity plot to see how perplexity is affected by the discounting parameter.(0.5 point)  \n",
    "\n",
    "f. Now, using the optimal discount parameter, compute the perplexity on the `burgess.txt`. (0.25 point)  \n",
    "\n",
    "g. From the lecture (chapter 5, slide 49), we know the approximate solution for the optimal discounting parameter is,\n",
    "   $$d = \\frac{N_1}{N_1 + 2N_2}$$\n",
    "\n",
    "   For now, simply use the n-gram counts computed from the training set in Q3.d to compute $N_1$ and $N_2$. Then, using the optimal $d$ compute the perplexity on the `burgess.txt`. (0.5 point)  \n",
    "   \n",
    "h. How did the optimal value of $d$ (from 3.g) compare to the one you computed in Q3.e? And, how did it affect perplexity? (0.25 point)\n",
    "\n",
    "---"
   ]
  },
  {
   "cell_type": "markdown",
   "metadata": {},
   "source": [
    "### Solution 3"
   ]
  },
  {
   "cell_type": "code",
   "execution_count": null,
   "metadata": {},
   "outputs": [],
   "source": [
    "# Solution Q3\n",
    "\n",
    "# DO NOT CHANGE THE CODE BELOW\n",
    "# Your solution should be implemented in the `exercise_2_and_3.py` file\n",
    "# You might have to rerun this cell if you make changes to the `exercise_2_and_3.py` file\n",
    "\n",
    "import exercise_2_and_3\n",
    "from importlib import reload\n",
    "\n",
    "reload(exercise_2_and_3)"
   ]
  },
  {
   "cell_type": "code",
   "execution_count": null,
   "metadata": {},
   "outputs": [],
   "source": [
    "# Solution 3.d\n",
    "# Define a bigram model\n",
    "lm = ...\n",
    "\n",
    "# Training the language model\n",
    "training_text = ...\n",
    "\n",
    "tokens = ...\n",
    "\n",
    "print(\"No. of tokens: \", len(tokens))\n",
    "\n",
    "lm.train(tokens)"
   ]
  },
  {
   "cell_type": "code",
   "execution_count": null,
   "metadata": {},
   "outputs": [],
   "source": [
    "# Solution 3.d\n",
    "# Generating text using ngram probabilities\n",
    "# with seen n-grams\n",
    "history = \"Captain Ahab went\"\n",
    "\n",
    "tokens = ex1.tokenize_bpe(..., history)\n",
    "print(\"Tokens: \", tokens)\n",
    "\n",
    "for _ in range(5):\n",
    "    next_token = lm.generate(tokens)\n",
    "    tokens.append(next_token)\n",
    "\n",
    "print(tokens)"
   ]
  },
  {
   "cell_type": "code",
   "execution_count": null,
   "metadata": {},
   "outputs": [],
   "source": [
    "# Solution 3.d\n",
    "# Generating text using ngram probabilities\n",
    "# with unseen n-grams\n",
    "history = \"The computer\"\n",
    "\n",
    "tokens = ex1.tokenize_bpe(..., history)\n",
    "print(\"Tokens: \", tokens)\n",
    "\n",
    "for _ in range(5):\n",
    "    next_token = lm.generate(tokens)\n",
    "    tokens.append(next_token)\n",
    "\n",
    "print(tokens)"
   ]
  },
  {
   "cell_type": "code",
   "execution_count": null,
   "metadata": {},
   "outputs": [],
   "source": [
    "# Solution 3.d\n",
    "# Generating text using smoothed probabilities\n",
    "# Note: This might take a few minutes\n",
    "history = \"The computer\"\n",
    "\n",
    "tokens = ex1.tokenize_bpe(..., history)\n",
    "print(\"Tokens: \", tokens)\n",
    "\n",
    "for _ in range(5):\n",
    "    next_token = lm.generate_absolute_smoothing(tokens)\n",
    "    tokens.append(next_token)\n",
    "\n",
    "print(tokens)"
   ]
  },
  {
   "cell_type": "code",
   "execution_count": null,
   "metadata": {},
   "outputs": [],
   "source": [
    "# Solution 3.e\n",
    "\n",
    "# Finding the optimal value of d using cross validation\n",
    "\n",
    "import math\n",
    "\n",
    "# Estimating optimal d\n",
    "d_values = [0.1, 0.3, 0.5, 0.7, 0.9, 1.0]\n",
    "pp_values = []\n",
    "\n",
    "min_pp = math.inf\n",
    "best_d = None\n",
    "\n",
    "for d in d_values:\n",
    "    # Training the language model\n",
    "    # We recommend splitting the training data to list of words\n",
    "    # and then splitting it into training and validation set to prevent cropped words\n",
    "    # You might have to then join the words back to form the text\n",
    "    training_text = open(training_file).read().lower().strip().split()\n",
    "\n",
    "    # ====================================\n",
    "    # Your code here\n",
    "\n",
    "    # ====================================\n",
    "\n",
    "    print(f\"For d={d}, Perplexity={pp}\")"
   ]
  },
  {
   "cell_type": "code",
   "execution_count": null,
   "metadata": {},
   "outputs": [],
   "source": [
    "# Solution 3.e\n",
    "# Plot the perplexity values for different d values\n",
    "\n",
    "# ====================================\n",
    "# Your code here\n",
    "\n",
    "# ===================================="
   ]
  },
  {
   "cell_type": "code",
   "execution_count": null,
   "metadata": {},
   "outputs": [],
   "source": [
    "# Solution 3.f\n",
    "\n",
    "# Computing Perplexity on test set\n",
    "\n",
    "# ====================================\n",
    "# Your code here\n",
    "\n",
    "# ===================================="
   ]
  },
  {
   "cell_type": "code",
   "execution_count": null,
   "metadata": {},
   "outputs": [],
   "source": [
    "# Solution 3.g\n",
    "\n",
    "# Computing d with approximate solution\n",
    "\n",
    "# ====================================\n",
    "# Your code here\n",
    "\n",
    "# ====================================\n",
    "\n",
    "# Computing Perplexity on test set\n",
    "# with the optimal d value\n",
    "# ====================================\n",
    "# Your code here\n",
    "\n",
    "# ===================================="
   ]
  },
  {
   "cell_type": "markdown",
   "metadata": {},
   "source": [
    "##### Solution 3.h"
   ]
  },
  {
   "cell_type": "markdown",
   "metadata": {},
   "source": [
    "## Bonus"
   ]
  },
  {
   "cell_type": "markdown",
   "metadata": {},
   "source": [
    "## Bonus 1 - More Tokenizers (2 points)\n",
    "\n",
    "Repeat Exercise 1, but with the following:\n",
    "\n",
    "* Whitespace tokenizer (0.5 point)\n",
    "* Another tokenizer of your choice (e.g. Wordpiece) (0.5 point)\n",
    "\n",
    "a. How do they compare to BPE and Morfessor in terms of the tokenized output? (0.5 point)  \n",
    "b. How do they compare to BPE and Morfessor in terms of the entropy of the tokenized text? Which one seems better now? (0.5 point)\n",
    "\n",
    "----"
   ]
  },
  {
   "cell_type": "markdown",
   "metadata": {},
   "source": [
    "## Bonus 2 - Back off! (1 points)\n",
    "\n",
    "a. What is an problem with absolute discounting? (0.5 point)  \n",
    "b. How can you fix it? Is there another back-off appraoch we can use? (0.5 point)\n",
    "\n",
    "----"
   ]
  },
  {
   "cell_type": "markdown",
   "metadata": {},
   "source": []
  },
  {
   "cell_type": "code",
   "execution_count": null,
   "metadata": {},
   "outputs": [],
   "source": []
  }
 ],
 "metadata": {
  "colab": {
   "collapsed_sections": [],
   "name": "Assignment1.ipynb",
   "provenance": [],
   "toc_visible": true
  },
  "kernelspec": {
   "display_name": "Python 3 (ipykernel)",
   "language": "python",
   "name": "python3"
  },
  "language_info": {
   "codemirror_mode": {
    "name": "ipython",
    "version": 3
   },
   "file_extension": ".py",
   "mimetype": "text/x-python",
   "name": "python",
   "nbconvert_exporter": "python",
   "pygments_lexer": "ipython3",
   "version": "3.11.7"
  }
 },
 "nbformat": 4,
 "nbformat_minor": 4
}
